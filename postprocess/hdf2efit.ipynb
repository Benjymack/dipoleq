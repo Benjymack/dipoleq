{
 "cells": [
  {
   "cell_type": "markdown",
   "metadata": {},
   "source": []
  },
  {
   "cell_type": "code",
   "execution_count": 34,
   "metadata": {},
   "outputs": [],
   "source": [
    "import h5py\n",
    "from freeqdsk import geqdsk"
   ]
  },
  {
   "cell_type": "code",
   "execution_count": 33,
   "metadata": {},
   "outputs": [
    {
     "name": "stdout",
     "output_type": "stream",
     "text": [
      "<KeysViewHDF5 ['Boundaries', 'FluxFunctions', 'Grid', 'Scalars']>\n",
      "<KeysViewHDF5 ['B2ave_1D', 'Beta_1D', 'Jave_1D', 'PsiX', 'Psi_1D', 'Shear_1D', 'Vol_1D', 'Well_1D', 'dG2dPsi_1D', 'dVdPsi_1D', 'fpol', 'pprime', 'pres', 'qpsi']>\n",
      "<KeysViewHDF5 ['FCFS', 'LCFS', 'ilim', 'lim']>\n",
      "[0. 0. 0. 0. 0. 0. 0. 0. 0. 0. 0. 0. 0. 0. 0. 0. 0. 0. 0. 0. 0. 0. 0. 0.\n",
      " 0.]\n",
      "[0. 0. 0. 0. 0. 0. 0. 0. 0. 0. 0. 0. 0. 0. 0. 0. 0. 0. 0. 0. 0. 0. 0. 0.\n",
      " 0.]\n",
      "0.0\n",
      "0.0\n"
     ]
    }
   ],
   "source": [
    "with h5py.File('../Testing/beta1.h5','r') as h5f:\n",
    "    print(h5f.keys())\n",
    "    FF = h5f['/FluxFunctions']\n",
    "    print(FF.keys())\n",
    "    B = h5f['/Boundaries']\n",
    "    print(B.keys())\n",
    "    print(FF[\"PsiX\"][()])\n",
    "    print(FF[\"Psi_1D\"][()])\n",
    "    print(h5f['Scalars/simagx'][()])\n",
    "    print(h5f[\"Scalars/sibdry\"][()])\n"
   ]
  },
  {
   "cell_type": "code",
   "execution_count": 36,
   "metadata": {},
   "outputs": [
    {
     "name": "stdout",
     "output_type": "stream",
     "text": [
      "# beta1 written to beta1.geqdsk\n"
     ]
    }
   ],
   "source": [
    "def dipoleq_lim_to_eqdsk(lim):\n",
    "    import numpy as np\n",
    "    # lim is a 3D array with shape (nlim, 2, 2)\n",
    "    # with a start and end point for each limiter\n",
    "    # in this we will assume that the start is the end of the last\n",
    "    newlim = np.zeros((lim.shape[0]+1, 2))\n",
    "    newlim[:-1] = lim[:,0]\n",
    "    newlim[-1] = lim[-1,1]\n",
    "    return newlim\n",
    "\n",
    "    \n",
    "def dipoleq_to_geqdsk(h5f):\n",
    "    import numpy as np\n",
    "    from typing import Dict, Union\n",
    "    from numpy.typing import ArrayLike\n",
    "    #gdata = Dict[str, Union[int, float, ArrayLike]]\n",
    "    gdata = {}\n",
    "\n",
    "    # 0D values\n",
    "    # commputational domain\n",
    "    Grid = h5f['/Grid']\n",
    "    Flux = h5f['/FluxFunctions']\n",
    "    eq0d = h5f['/Scalars']\n",
    "\n",
    "    R = Grid['R'][()]\n",
    "    Z = Grid['Z'][()]\n",
    "    gdata['rdim'] = max(R) - min(R)\n",
    "    gdata['rleft'] = min(R)\n",
    "    gdata['zdim'] = max(Z) - min(Z)\n",
    "    gdata['zmid'] = (max(Z) + min(Z))/2\n",
    "    # reference values\n",
    "    gdata['rcentr'] = eq0d['rcentr'][()]\n",
    "    gdata['bcentr'] = eq0d['bcentr'][()]\n",
    "    # plasma current\n",
    "    gdata['cpasma'] = eq0d['cpasma'][()]\n",
    "    gdata['rmagx'] = eq0d['rmagx'][()]\n",
    "    gdata['zmagx'] = eq0d['zmagx'][()]\n",
    "    # psi values\n",
    "    gdata['simagx'] = h5f[\"/Grid/Psi\"].attrs[\"PsiAxis\"][0]\n",
    "    gdata['sibdry'] = h5f[\"/Grid/Psi\"].attrs[\"PsiLim\"][0]\n",
    "\n",
    "    # 1D values\n",
    "    # geqdsk assumes that the radial resolution is the same\n",
    "    # as the number of X gridpoints\n",
    "    psiX = Flux['PsiX'][()]\n",
    "    if (len(psiX) != len(R)):\n",
    "        # must interpolate\n",
    "        psiXn = np.linspace(psiX[0], psiX[-1], len(R))\n",
    "        def regrid(y):\n",
    "            return np.interp(psiXn, psiX, y)\n",
    "    else:\n",
    "        regrid = lambda y: y\n",
    "    gdata['fpol']       = regrid(Flux['fpol'][()])\n",
    "    gdata['pres']       = regrid(Flux['pres'][()])\n",
    "    #gdata['ffprime']   = Flux['ffprime'][()]\n",
    "    gdata['ffprime']    = regrid(Flux['dG2dPsi_1D'][()]/2)\n",
    "    gdata['pprime']     = regrid(Flux['pprime'][()])\n",
    "    gdata['qpsi']       = regrid(Flux['qpsi'][()])\n",
    "\n",
    "    # 2D values\n",
    "    gdata['psi'] = Grid['Psi'][()]\n",
    "\n",
    "    # Boundary values\n",
    "    lcfs = h5f['/Boundaries/LCFS'][()]\n",
    "    fcfs = h5f['/Boundaries/FCFS'][()]\n",
    "    gdata['rbdry'] = lcfs[:,0]\n",
    "    gdata['zbdry'] = lcfs[:,1]\n",
    "\n",
    "    olimq = h5f['/Boundaries/lim'][()]\n",
    "    ilimq = h5f['/Boundaries/ilim'][()]\n",
    "    olim = dipoleq_lim_to_eqdsk(olimq)\n",
    "    gdata['rlim'] = olim[:,0]\n",
    "    gdata['zlim'] = olim[:,1]\n",
    "    oname = str(h5f.attrs[\"ONAME\"],'utf-8')\n",
    "\n",
    "    return (gdata, oname)\n",
    "\n",
    "with h5py.File('../Testing/beta1.h5','r') as h5f:\n",
    "    gdata, oname = dipoleq_to_geqdsk(h5f)\n",
    "    ofile = f\"{oname}.geqdsk\"\n",
    "    with open(ofile, 'w') as fh:\n",
    "        geqdsk.write(gdata, fh, label=oname)\n",
    "        print(f\"# {oname:s} written to {ofile}\")\n",
    "    "
   ]
  }
 ],
 "metadata": {
  "kernelspec": {
   "display_name": "Python 3",
   "language": "python",
   "name": "python3"
  },
  "language_info": {
   "codemirror_mode": {
    "name": "ipython",
    "version": 3
   },
   "file_extension": ".py",
   "mimetype": "text/x-python",
   "name": "python",
   "nbconvert_exporter": "python",
   "pygments_lexer": "ipython3",
   "version": "3.11.9"
  }
 },
 "nbformat": 4,
 "nbformat_minor": 2
}
